{
 "cells": [
  {
   "cell_type": "code",
   "execution_count": null,
   "metadata": {},
   "outputs": [],
   "source": [
    "from fbprophet import Prophet\n",
    "import pandas as pd\n",
    "import numpy as np\n",
    "from alpha_vantage.timeseries import TimeSeries"
   ]
  },
  {
   "cell_type": "code",
   "execution_count": 2,
   "metadata": {},
   "outputs": [],
   "source": [
    "def save_dataset(symbol):\n",
    "    api_key = 'P33J9T7IVI663Y0A'\n",
    "\n",
    "    ts = TimeSeries(key=api_key, output_format='pandas')\n",
    "    data, meta_data = ts.get_daily(symbol, outputsize='full')\n",
    "\n",
    "    data.to_csv(f'./DataOutput/{symbol}_daily.csv')\n",
    "    print (f'./DataOutput/{symbol}_daily.csv')"
   ]
  },
  {
   "cell_type": "code",
   "execution_count": 3,
   "metadata": {},
   "outputs": [],
   "source": [
    "def csv_to_dataset_openclose(csv_path):\n",
    "    data = pd.read_csv(csv_path)\n",
    "    dateList = []\n",
    "    yList = []\n",
    "    row_count = len(data['1. open'])\n",
    "\n",
    "    for i in range (row_count):\n",
    "      dateList.append (str(data.date[i]) + ' 09:30:00')\n",
    "      dateList.append (str(data.date[i]) + ' 16:00:00')\n",
    "      yList.append (data['1. open'][i])\n",
    "      yList.append (data['4. close'][i])\n",
    "\n",
    "      data_openclose = pd.DataFrame ({'ds':dateList,'y':yList})\n",
    "\n",
    "    return data_openclose"
   ]
  },
  {
   "cell_type": "code",
   "execution_count": 4,
   "metadata": {},
   "outputs": [
    {
     "name": "stdout",
     "output_type": "stream",
     "text": [
      "./DataOutput/AMZN_daily.csv\n"
     ]
    }
   ],
   "source": [
    "save_dataset('AMZN')"
   ]
  },
  {
   "cell_type": "code",
   "execution_count": 5,
   "metadata": {},
   "outputs": [],
   "source": [
    "data = csv_to_dataset_openclose('./DataOutput/AMZN_daily.csv')"
   ]
  },
  {
   "cell_type": "code",
   "execution_count": null,
   "metadata": {},
   "outputs": [],
   "source": [
    "data.head()"
   ]
  },
  {
   "cell_type": "code",
   "execution_count": null,
   "metadata": {},
   "outputs": [
    {
     "name": "stderr",
     "output_type": "stream",
     "text": [
      "INFO:numexpr.utils:NumExpr defaulting to 8 threads.\n"
     ]
    },
    {
     "ename": "KeyError",
     "evalue": "'metric_file'",
     "output_type": "error",
     "traceback": [
      "\u001b[1;31m---------------------------------------------------------------------------\u001b[0m",
      "\u001b[1;31mKeyError\u001b[0m                                  Traceback (most recent call last)",
      "\u001b[1;31mKeyError\u001b[0m: 'metric_file'"
     ]
    },
    {
     "name": "stderr",
     "output_type": "stream",
     "text": [
      "Exception ignored in: 'stanfit4anon_model_f5236004a3fd5b8429270d00efcc0cf9_9045703871880297330._set_stanargs_from_dict'\n",
      "Traceback (most recent call last):\n",
      "  File \"C:\\Users\\Ahmad Abo Alafa\\anaconda3\\lib\\site-packages\\pystan\\model.py\", line 550, in optimizing\n",
      "    ret, sample = fit._call_sampler(stan_args)\n",
      "KeyError: 'metric_file'\n"
     ]
    }
   ],
   "source": [
    "model = Prophet(daily_seasonality=True)\n",
    "model.fit(data)\n",
    "data.tail()"
   ]
  },
  {
   "cell_type": "code",
   "execution_count": null,
   "metadata": {},
   "outputs": [],
   "source": [
    "future_df = model.make_future_dataframe(periods=365)\n",
    "future_df"
   ]
  },
  {
   "cell_type": "code",
   "execution_count": null,
   "metadata": {},
   "outputs": [],
   "source": [
    "predictions = model.predict(future_df)\n",
    "predictions"
   ]
  },
  {
   "cell_type": "code",
   "execution_count": null,
   "metadata": {},
   "outputs": [],
   "source": [
    "model.plot(predictions)\n",
    "model.plot_components(predictions)"
   ]
  },
  {
   "cell_type": "code",
   "execution_count": null,
   "metadata": {},
   "outputs": [],
   "source": []
  }
 ],
 "metadata": {
  "kernelspec": {
   "display_name": "Python 3",
   "language": "python",
   "name": "python3"
  },
  "language_info": {
   "codemirror_mode": {
    "name": "ipython",
    "version": 3
   },
   "file_extension": ".py",
   "mimetype": "text/x-python",
   "name": "python",
   "nbconvert_exporter": "python",
   "pygments_lexer": "ipython3",
   "version": "3.8.3"
  }
 },
 "nbformat": 4,
 "nbformat_minor": 4
}
